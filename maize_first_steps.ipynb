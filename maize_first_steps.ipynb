{
 "cells": [
  {
   "cell_type": "code",
   "execution_count": 1,
   "metadata": {},
   "outputs": [],
   "source": [
    "# Import section libraries\n",
    "\n",
    "import matplotlib.pyplot as plt\n",
    "import numpy as np\n",
    "import pandas as pd\n",
    "\n",
    "from datetime import datetime, timedelta\n",
    "from matplotlib.pyplot import rcParams\n",
    "from scipy import stats\n",
    "from statsmodels.graphics.tsaplots import plot_acf, plot_pacf\n",
    "from statsmodels.tsa.arima_model import ARIMA\n",
    "from statsmodels.tsa.stattools import acf, adfuller, pacf"
   ]
  },
  {
   "cell_type": "code",
   "execution_count": 2,
   "metadata": {},
   "outputs": [],
   "source": [
    "# Some settings\n",
    "\n",
    "# PATH\n",
    "\n",
    "PATH = '../../Raw Data sets/Sauti Africa Market Monitoring/eac-ratin.csv'\n",
    "\n",
    "# Size of plottings\n",
    "\n",
    "rcParams['figure.figsize'] = 20,6"
   ]
  },
  {
   "cell_type": "code",
   "execution_count": 3,
   "metadata": {},
   "outputs": [],
   "source": [
    "prices = pd.read_csv(PATH)"
   ]
  },
  {
   "cell_type": "code",
   "execution_count": 4,
   "metadata": {},
   "outputs": [
    {
     "data": {
      "text/html": [
       "<div>\n",
       "<style scoped>\n",
       "    .dataframe tbody tr th:only-of-type {\n",
       "        vertical-align: middle;\n",
       "    }\n",
       "\n",
       "    .dataframe tbody tr th {\n",
       "        vertical-align: top;\n",
       "    }\n",
       "\n",
       "    .dataframe thead th {\n",
       "        text-align: right;\n",
       "    }\n",
       "</style>\n",
       "<table border=\"1\" class=\"dataframe\">\n",
       "  <thead>\n",
       "    <tr style=\"text-align: right;\">\n",
       "      <th></th>\n",
       "      <th>Market</th>\n",
       "      <th>Product</th>\n",
       "      <th>Country</th>\n",
       "      <th>Date</th>\n",
       "      <th>Retail (MT)</th>\n",
       "      <th>Wholesale (MT)</th>\n",
       "      <th>Currency</th>\n",
       "    </tr>\n",
       "  </thead>\n",
       "  <tbody>\n",
       "    <tr>\n",
       "      <th>0</th>\n",
       "      <td>Bujumbura</td>\n",
       "      <td>Maize</td>\n",
       "      <td>Burundi</td>\n",
       "      <td>10/4/2011</td>\n",
       "      <td>0</td>\n",
       "      <td>548798</td>\n",
       "      <td>BIF</td>\n",
       "    </tr>\n",
       "    <tr>\n",
       "      <th>1</th>\n",
       "      <td>Bujumbura</td>\n",
       "      <td>Maize</td>\n",
       "      <td>Burundi</td>\n",
       "      <td>10/5/2011</td>\n",
       "      <td>0</td>\n",
       "      <td>549000</td>\n",
       "      <td>BIF</td>\n",
       "    </tr>\n",
       "    <tr>\n",
       "      <th>2</th>\n",
       "      <td>Bujumbura</td>\n",
       "      <td>Maize</td>\n",
       "      <td>Burundi</td>\n",
       "      <td>10/6/2011</td>\n",
       "      <td>0</td>\n",
       "      <td>498970</td>\n",
       "      <td>BIF</td>\n",
       "    </tr>\n",
       "    <tr>\n",
       "      <th>3</th>\n",
       "      <td>Bujumbura</td>\n",
       "      <td>Maize</td>\n",
       "      <td>Burundi</td>\n",
       "      <td>10/7/2011</td>\n",
       "      <td>0</td>\n",
       "      <td>549299</td>\n",
       "      <td>BIF</td>\n",
       "    </tr>\n",
       "    <tr>\n",
       "      <th>4</th>\n",
       "      <td>Bujumbura</td>\n",
       "      <td>Maize</td>\n",
       "      <td>Burundi</td>\n",
       "      <td>10/10/2011</td>\n",
       "      <td>0</td>\n",
       "      <td>549872</td>\n",
       "      <td>BIF</td>\n",
       "    </tr>\n",
       "  </tbody>\n",
       "</table>\n",
       "</div>"
      ],
      "text/plain": [
       "      Market Product  Country        Date Retail (MT) Wholesale (MT) Currency\n",
       "0  Bujumbura   Maize  Burundi   10/4/2011           0         548798      BIF\n",
       "1  Bujumbura   Maize  Burundi   10/5/2011           0         549000      BIF\n",
       "2  Bujumbura   Maize  Burundi   10/6/2011           0         498970      BIF\n",
       "3  Bujumbura   Maize  Burundi   10/7/2011           0         549299      BIF\n",
       "4  Bujumbura   Maize  Burundi  10/10/2011           0         549872      BIF"
      ]
     },
     "execution_count": 4,
     "metadata": {},
     "output_type": "execute_result"
    }
   ],
   "source": [
    "prices.head()"
   ]
  },
  {
   "cell_type": "code",
   "execution_count": 101,
   "metadata": {},
   "outputs": [
    {
     "name": "stdout",
     "output_type": "stream",
     "text": [
      "(2397, 7)\n"
     ]
    },
    {
     "data": {
      "text/plain": [
       "Date    1949\n",
       "dtype: int64"
      ]
     },
     "execution_count": 101,
     "metadata": {},
     "output_type": "execute_result"
    }
   ],
   "source": [
    "# There are duplicated dates!\n",
    "\n",
    "lira = prices[prices['Market'] == 'Lira']\n",
    "print(lira.shape)\n",
    "lira[['Date']].nunique()"
   ]
  },
  {
   "cell_type": "code",
   "execution_count": 104,
   "metadata": {},
   "outputs": [],
   "source": [
    "# drop duplicated rows in terms of Dates.\n",
    "lira = lira.drop(labels=lira[lira.duplicated(['Date'], keep='first')].index, axis=0)"
   ]
  },
  {
   "cell_type": "code",
   "execution_count": 106,
   "metadata": {},
   "outputs": [
    {
     "data": {
      "text/html": [
       "<div>\n",
       "<style scoped>\n",
       "    .dataframe tbody tr th:only-of-type {\n",
       "        vertical-align: middle;\n",
       "    }\n",
       "\n",
       "    .dataframe tbody tr th {\n",
       "        vertical-align: top;\n",
       "    }\n",
       "\n",
       "    .dataframe thead th {\n",
       "        text-align: right;\n",
       "    }\n",
       "</style>\n",
       "<table border=\"1\" class=\"dataframe\">\n",
       "  <thead>\n",
       "    <tr style=\"text-align: right;\">\n",
       "      <th></th>\n",
       "      <th>Wholesale (MT)</th>\n",
       "    </tr>\n",
       "    <tr>\n",
       "      <th>Date</th>\n",
       "      <th></th>\n",
       "    </tr>\n",
       "  </thead>\n",
       "  <tbody>\n",
       "    <tr>\n",
       "      <th>2011-03-04</th>\n",
       "      <td>499.489</td>\n",
       "    </tr>\n",
       "    <tr>\n",
       "      <th>2011-03-07</th>\n",
       "      <td>499.655</td>\n",
       "    </tr>\n",
       "    <tr>\n",
       "      <th>2011-03-10</th>\n",
       "      <td>500.561</td>\n",
       "    </tr>\n",
       "    <tr>\n",
       "      <th>2011-03-15</th>\n",
       "      <td>494.353</td>\n",
       "    </tr>\n",
       "    <tr>\n",
       "      <th>2011-03-21</th>\n",
       "      <td>498.928</td>\n",
       "    </tr>\n",
       "  </tbody>\n",
       "</table>\n",
       "</div>"
      ],
      "text/plain": [
       "            Wholesale (MT)\n",
       "Date                      \n",
       "2011-03-04         499.489\n",
       "2011-03-07         499.655\n",
       "2011-03-10         500.561\n",
       "2011-03-15         494.353\n",
       "2011-03-21         498.928"
      ]
     },
     "execution_count": 106,
     "metadata": {},
     "output_type": "execute_result"
    }
   ],
   "source": [
    "lira['Date'] = pd.to_datetime(lira['Date'], infer_datetime_format=True)\n",
    "lira = lira.set_index('Date')\n",
    "lira = lira[['Wholesale (MT)']].astype(float) / 1000\n",
    "lira = lira[lira.index >= '2010-12-31']\n",
    "lira.head()"
   ]
  },
  {
   "cell_type": "code",
   "execution_count": 107,
   "metadata": {},
   "outputs": [
    {
     "data": {
      "image/png": "[encoded data removed]",
      "text/plain": [
       "<Figure size 1440x432 with 1 Axes>"
      ]
     },
     "metadata": {
      "needs_background": "light"
     },
     "output_type": "display_data"
    }
   ],
   "source": [
    "\n",
    "timeseries_prices = plt.plot(lira['Wholesale (MT)'], label = 'Maize Price')\n",
    "# upper_band = plt.plot(month_rolmean + 2 * month_rolstd, color='red', label='Crisis band')\n",
    "# lower_band = plt.plot(month_rolmean + 1.5 * month_rolstd, color='orange', label='Alert mean')\n",
    "plt.xlabel('Years')\n",
    "plt.ylabel('Price in UGX')\n",
    "plt.show()\n",
    "\n"
   ]
  },
  {
   "cell_type": "code",
   "execution_count": 108,
   "metadata": {},
   "outputs": [
    {
     "name": "stdout",
     "output_type": "stream",
     "text": [
      "(3318, 0)\n"
     ]
    },
    {
     "data": {
      "text/plain": [
       "(3318, 1)"
      ]
     },
     "execution_count": 108,
     "metadata": {},
     "output_type": "execute_result"
    }
   ],
   "source": [
    "# I'm building a dataframe with all the possible dates between start='2/27/2011', end='3/28/2020'.\n",
    "\n",
    "dummy = pd.DataFrame()\n",
    "dummy['dates'] = pd.date_range(start='2/28/2011', end='3/29/2020')\n",
    "dummy = dummy.set_index('dates')\n",
    "lira = dummy.merge(lira, how='outer', left_index=True, right_index=True)\n",
    "print(dummy.shape)\n",
    "lira.shape"
   ]
  },
  {
   "cell_type": "code",
   "execution_count": 109,
   "metadata": {},
   "outputs": [
    {
     "name": "stderr",
     "output_type": "stream",
     "text": [
      "C:\\Users\\jcm\\Anaconda3\\lib\\site-packages\\ipykernel_launcher.py:6: RuntimeWarning: invalid value encountered in greater\n",
      "  \n"
     ]
    }
   ],
   "source": [
    "# Searching to the outliers.\n",
    "\n",
    "z = np.abs(stats.zscore(lira['Wholesale (MT)'], nan_policy='omit'))\n",
    "\n",
    "\n",
    "dates_to_drop = [lira.iloc[i:i+1,:].index[0] for i in list(np.where(z>4)[0])]\n",
    "lira = lira.drop(dates_to_drop, axis=0)"
   ]
  },
  {
   "cell_type": "code",
   "execution_count": 110,
   "metadata": {},
   "outputs": [
    {
     "name": "stdout",
     "output_type": "stream",
     "text": [
      "(3315, 3)\n"
     ]
    },
    {
     "data": {
      "text/html": [
       "<div>\n",
       "<style scoped>\n",
       "    .dataframe tbody tr th:only-of-type {\n",
       "        vertical-align: middle;\n",
       "    }\n",
       "\n",
       "    .dataframe tbody tr th {\n",
       "        vertical-align: top;\n",
       "    }\n",
       "\n",
       "    .dataframe thead th {\n",
       "        text-align: right;\n",
       "    }\n",
       "</style>\n",
       "<table border=\"1\" class=\"dataframe\">\n",
       "  <thead>\n",
       "    <tr style=\"text-align: right;\">\n",
       "      <th></th>\n",
       "      <th>Wholesale (MT)</th>\n",
       "      <th>mean_price_7days</th>\n",
       "      <th>number_of_day</th>\n",
       "    </tr>\n",
       "  </thead>\n",
       "  <tbody>\n",
       "    <tr>\n",
       "      <th>2011-02-28</th>\n",
       "      <td>NaN</td>\n",
       "      <td>NaN</td>\n",
       "      <td>1</td>\n",
       "    </tr>\n",
       "    <tr>\n",
       "      <th>2011-03-01</th>\n",
       "      <td>NaN</td>\n",
       "      <td>NaN</td>\n",
       "      <td>2</td>\n",
       "    </tr>\n",
       "    <tr>\n",
       "      <th>2011-03-02</th>\n",
       "      <td>NaN</td>\n",
       "      <td>NaN</td>\n",
       "      <td>3</td>\n",
       "    </tr>\n",
       "    <tr>\n",
       "      <th>2011-03-03</th>\n",
       "      <td>NaN</td>\n",
       "      <td>NaN</td>\n",
       "      <td>4</td>\n",
       "    </tr>\n",
       "    <tr>\n",
       "      <th>2011-03-04</th>\n",
       "      <td>499.489</td>\n",
       "      <td>499.489000</td>\n",
       "      <td>5</td>\n",
       "    </tr>\n",
       "    <tr>\n",
       "      <th>2011-03-05</th>\n",
       "      <td>NaN</td>\n",
       "      <td>499.489000</td>\n",
       "      <td>6</td>\n",
       "    </tr>\n",
       "    <tr>\n",
       "      <th>2011-03-06</th>\n",
       "      <td>NaN</td>\n",
       "      <td>499.489000</td>\n",
       "      <td>7</td>\n",
       "    </tr>\n",
       "    <tr>\n",
       "      <th>2011-03-07</th>\n",
       "      <td>499.655</td>\n",
       "      <td>499.572000</td>\n",
       "      <td>1</td>\n",
       "    </tr>\n",
       "    <tr>\n",
       "      <th>2011-03-08</th>\n",
       "      <td>NaN</td>\n",
       "      <td>499.572000</td>\n",
       "      <td>2</td>\n",
       "    </tr>\n",
       "    <tr>\n",
       "      <th>2011-03-09</th>\n",
       "      <td>NaN</td>\n",
       "      <td>499.572000</td>\n",
       "      <td>3</td>\n",
       "    </tr>\n",
       "    <tr>\n",
       "      <th>2011-03-10</th>\n",
       "      <td>500.561</td>\n",
       "      <td>499.901667</td>\n",
       "      <td>4</td>\n",
       "    </tr>\n",
       "    <tr>\n",
       "      <th>2011-03-11</th>\n",
       "      <td>NaN</td>\n",
       "      <td>500.108000</td>\n",
       "      <td>5</td>\n",
       "    </tr>\n",
       "    <tr>\n",
       "      <th>2011-03-12</th>\n",
       "      <td>NaN</td>\n",
       "      <td>500.108000</td>\n",
       "      <td>6</td>\n",
       "    </tr>\n",
       "    <tr>\n",
       "      <th>2011-03-13</th>\n",
       "      <td>NaN</td>\n",
       "      <td>500.108000</td>\n",
       "      <td>7</td>\n",
       "    </tr>\n",
       "    <tr>\n",
       "      <th>2011-03-14</th>\n",
       "      <td>NaN</td>\n",
       "      <td>500.561000</td>\n",
       "      <td>1</td>\n",
       "    </tr>\n",
       "    <tr>\n",
       "      <th>2011-03-15</th>\n",
       "      <td>494.353</td>\n",
       "      <td>497.457000</td>\n",
       "      <td>2</td>\n",
       "    </tr>\n",
       "    <tr>\n",
       "      <th>2011-03-16</th>\n",
       "      <td>NaN</td>\n",
       "      <td>497.457000</td>\n",
       "      <td>3</td>\n",
       "    </tr>\n",
       "    <tr>\n",
       "      <th>2011-03-17</th>\n",
       "      <td>NaN</td>\n",
       "      <td>494.353000</td>\n",
       "      <td>4</td>\n",
       "    </tr>\n",
       "    <tr>\n",
       "      <th>2011-03-18</th>\n",
       "      <td>NaN</td>\n",
       "      <td>494.353000</td>\n",
       "      <td>5</td>\n",
       "    </tr>\n",
       "    <tr>\n",
       "      <th>2011-03-19</th>\n",
       "      <td>NaN</td>\n",
       "      <td>494.353000</td>\n",
       "      <td>6</td>\n",
       "    </tr>\n",
       "    <tr>\n",
       "      <th>2011-03-20</th>\n",
       "      <td>NaN</td>\n",
       "      <td>494.353000</td>\n",
       "      <td>7</td>\n",
       "    </tr>\n",
       "    <tr>\n",
       "      <th>2011-03-21</th>\n",
       "      <td>498.928</td>\n",
       "      <td>496.640500</td>\n",
       "      <td>1</td>\n",
       "    </tr>\n",
       "    <tr>\n",
       "      <th>2011-03-22</th>\n",
       "      <td>498.589</td>\n",
       "      <td>498.758500</td>\n",
       "      <td>2</td>\n",
       "    </tr>\n",
       "    <tr>\n",
       "      <th>2011-03-23</th>\n",
       "      <td>497.007</td>\n",
       "      <td>498.174667</td>\n",
       "      <td>3</td>\n",
       "    </tr>\n",
       "    <tr>\n",
       "      <th>2011-03-24</th>\n",
       "      <td>NaN</td>\n",
       "      <td>498.174667</td>\n",
       "      <td>4</td>\n",
       "    </tr>\n",
       "  </tbody>\n",
       "</table>\n",
       "</div>"
      ],
      "text/plain": [
       "            Wholesale (MT)  mean_price_7days  number_of_day\n",
       "2011-02-28             NaN               NaN              1\n",
       "2011-03-01             NaN               NaN              2\n",
       "2011-03-02             NaN               NaN              3\n",
       "2011-03-03             NaN               NaN              4\n",
       "2011-03-04         499.489        499.489000              5\n",
       "2011-03-05             NaN        499.489000              6\n",
       "2011-03-06             NaN        499.489000              7\n",
       "2011-03-07         499.655        499.572000              1\n",
       "2011-03-08             NaN        499.572000              2\n",
       "2011-03-09             NaN        499.572000              3\n",
       "2011-03-10         500.561        499.901667              4\n",
       "2011-03-11             NaN        500.108000              5\n",
       "2011-03-12             NaN        500.108000              6\n",
       "2011-03-13             NaN        500.108000              7\n",
       "2011-03-14             NaN        500.561000              1\n",
       "2011-03-15         494.353        497.457000              2\n",
       "2011-03-16             NaN        497.457000              3\n",
       "2011-03-17             NaN        494.353000              4\n",
       "2011-03-18             NaN        494.353000              5\n",
       "2011-03-19             NaN        494.353000              6\n",
       "2011-03-20             NaN        494.353000              7\n",
       "2011-03-21         498.928        496.640500              1\n",
       "2011-03-22         498.589        498.758500              2\n",
       "2011-03-23         497.007        498.174667              3\n",
       "2011-03-24             NaN        498.174667              4"
      ]
     },
     "execution_count": 110,
     "metadata": {},
     "output_type": "execute_result"
    }
   ],
   "source": [
    "lira['mean_price_7days'] = lira['Wholesale (MT)'].rolling(window=7,min_periods=1).mean()\n",
    "# lira['std_price_7days'] = lira['Wholesale (MT)'].rolling(window=7,min_periods=2).std()\n",
    "\n",
    "lira['number_of_day'] = [i%7 +1 for i in range(len(lira))]\n",
    "\n",
    "# lira['difference'] = np.where(lira['Wholesale (MT)'] >= (lira['mean_price_7days'] + 2*lira['std_price_7days']), 'Yes','No' )\n",
    "print(lira.shape)\n",
    "lira.head(25)"
   ]
  },
  {
   "cell_type": "code",
   "execution_count": 111,
   "metadata": {},
   "outputs": [
    {
     "data": {
      "text/html": [
       "<div>\n",
       "<style scoped>\n",
       "    .dataframe tbody tr th:only-of-type {\n",
       "        vertical-align: middle;\n",
       "    }\n",
       "\n",
       "    .dataframe tbody tr th {\n",
       "        vertical-align: top;\n",
       "    }\n",
       "\n",
       "    .dataframe thead th {\n",
       "        text-align: right;\n",
       "    }\n",
       "</style>\n",
       "<table border=\"1\" class=\"dataframe\">\n",
       "  <thead>\n",
       "    <tr style=\"text-align: right;\">\n",
       "      <th></th>\n",
       "      <th>Wholesale (MT)</th>\n",
       "      <th>mean_price_7days</th>\n",
       "      <th>number_of_day</th>\n",
       "    </tr>\n",
       "  </thead>\n",
       "  <tbody>\n",
       "    <tr>\n",
       "      <th>2020-03-05</th>\n",
       "      <td>800.240</td>\n",
       "      <td>808.239000</td>\n",
       "      <td>1</td>\n",
       "    </tr>\n",
       "    <tr>\n",
       "      <th>2020-03-06</th>\n",
       "      <td>847.486</td>\n",
       "      <td>822.575667</td>\n",
       "      <td>2</td>\n",
       "    </tr>\n",
       "    <tr>\n",
       "      <th>2020-03-07</th>\n",
       "      <td>NaN</td>\n",
       "      <td>822.575667</td>\n",
       "      <td>3</td>\n",
       "    </tr>\n",
       "    <tr>\n",
       "      <th>2020-03-08</th>\n",
       "      <td>NaN</td>\n",
       "      <td>822.575667</td>\n",
       "      <td>4</td>\n",
       "    </tr>\n",
       "    <tr>\n",
       "      <th>2020-03-09</th>\n",
       "      <td>NaN</td>\n",
       "      <td>822.575667</td>\n",
       "      <td>5</td>\n",
       "    </tr>\n",
       "    <tr>\n",
       "      <th>2020-03-10</th>\n",
       "      <td>899.079</td>\n",
       "      <td>848.935000</td>\n",
       "      <td>6</td>\n",
       "    </tr>\n",
       "    <tr>\n",
       "      <th>2020-03-11</th>\n",
       "      <td>NaN</td>\n",
       "      <td>848.935000</td>\n",
       "      <td>7</td>\n",
       "    </tr>\n",
       "    <tr>\n",
       "      <th>2020-03-12</th>\n",
       "      <td>900.343</td>\n",
       "      <td>882.302667</td>\n",
       "      <td>1</td>\n",
       "    </tr>\n",
       "    <tr>\n",
       "      <th>2020-03-13</th>\n",
       "      <td>950.518</td>\n",
       "      <td>916.646667</td>\n",
       "      <td>2</td>\n",
       "    </tr>\n",
       "    <tr>\n",
       "      <th>2020-03-14</th>\n",
       "      <td>NaN</td>\n",
       "      <td>916.646667</td>\n",
       "      <td>3</td>\n",
       "    </tr>\n",
       "    <tr>\n",
       "      <th>2020-03-15</th>\n",
       "      <td>NaN</td>\n",
       "      <td>916.646667</td>\n",
       "      <td>4</td>\n",
       "    </tr>\n",
       "    <tr>\n",
       "      <th>2020-03-16</th>\n",
       "      <td>NaN</td>\n",
       "      <td>916.646667</td>\n",
       "      <td>5</td>\n",
       "    </tr>\n",
       "    <tr>\n",
       "      <th>2020-03-17</th>\n",
       "      <td>803.838</td>\n",
       "      <td>884.899667</td>\n",
       "      <td>6</td>\n",
       "    </tr>\n",
       "    <tr>\n",
       "      <th>2020-03-18</th>\n",
       "      <td>NaN</td>\n",
       "      <td>884.899667</td>\n",
       "      <td>7</td>\n",
       "    </tr>\n",
       "    <tr>\n",
       "      <th>2020-03-19</th>\n",
       "      <td>930.623</td>\n",
       "      <td>894.993000</td>\n",
       "      <td>1</td>\n",
       "    </tr>\n",
       "    <tr>\n",
       "      <th>2020-03-20</th>\n",
       "      <td>NaN</td>\n",
       "      <td>867.230500</td>\n",
       "      <td>2</td>\n",
       "    </tr>\n",
       "    <tr>\n",
       "      <th>2020-03-21</th>\n",
       "      <td>NaN</td>\n",
       "      <td>867.230500</td>\n",
       "      <td>3</td>\n",
       "    </tr>\n",
       "    <tr>\n",
       "      <th>2020-03-22</th>\n",
       "      <td>NaN</td>\n",
       "      <td>867.230500</td>\n",
       "      <td>4</td>\n",
       "    </tr>\n",
       "    <tr>\n",
       "      <th>2020-03-23</th>\n",
       "      <td>NaN</td>\n",
       "      <td>867.230500</td>\n",
       "      <td>5</td>\n",
       "    </tr>\n",
       "    <tr>\n",
       "      <th>2020-03-24</th>\n",
       "      <td>NaN</td>\n",
       "      <td>930.623000</td>\n",
       "      <td>6</td>\n",
       "    </tr>\n",
       "    <tr>\n",
       "      <th>2020-03-25</th>\n",
       "      <td>842.071</td>\n",
       "      <td>886.347000</td>\n",
       "      <td>7</td>\n",
       "    </tr>\n",
       "    <tr>\n",
       "      <th>2020-03-26</th>\n",
       "      <td>NaN</td>\n",
       "      <td>842.071000</td>\n",
       "      <td>1</td>\n",
       "    </tr>\n",
       "    <tr>\n",
       "      <th>2020-03-27</th>\n",
       "      <td>868.066</td>\n",
       "      <td>855.068500</td>\n",
       "      <td>2</td>\n",
       "    </tr>\n",
       "    <tr>\n",
       "      <th>2020-03-28</th>\n",
       "      <td>NaN</td>\n",
       "      <td>855.068500</td>\n",
       "      <td>3</td>\n",
       "    </tr>\n",
       "    <tr>\n",
       "      <th>2020-03-29</th>\n",
       "      <td>NaN</td>\n",
       "      <td>855.068500</td>\n",
       "      <td>4</td>\n",
       "    </tr>\n",
       "  </tbody>\n",
       "</table>\n",
       "</div>"
      ],
      "text/plain": [
       "            Wholesale (MT)  mean_price_7days  number_of_day\n",
       "2020-03-05         800.240        808.239000              1\n",
       "2020-03-06         847.486        822.575667              2\n",
       "2020-03-07             NaN        822.575667              3\n",
       "2020-03-08             NaN        822.575667              4\n",
       "2020-03-09             NaN        822.575667              5\n",
       "2020-03-10         899.079        848.935000              6\n",
       "2020-03-11             NaN        848.935000              7\n",
       "2020-03-12         900.343        882.302667              1\n",
       "2020-03-13         950.518        916.646667              2\n",
       "2020-03-14             NaN        916.646667              3\n",
       "2020-03-15             NaN        916.646667              4\n",
       "2020-03-16             NaN        916.646667              5\n",
       "2020-03-17         803.838        884.899667              6\n",
       "2020-03-18             NaN        884.899667              7\n",
       "2020-03-19         930.623        894.993000              1\n",
       "2020-03-20             NaN        867.230500              2\n",
       "2020-03-21             NaN        867.230500              3\n",
       "2020-03-22             NaN        867.230500              4\n",
       "2020-03-23             NaN        867.230500              5\n",
       "2020-03-24             NaN        930.623000              6\n",
       "2020-03-25         842.071        886.347000              7\n",
       "2020-03-26             NaN        842.071000              1\n",
       "2020-03-27         868.066        855.068500              2\n",
       "2020-03-28             NaN        855.068500              3\n",
       "2020-03-29             NaN        855.068500              4"
      ]
     },
     "execution_count": 111,
     "metadata": {},
     "output_type": "execute_result"
    }
   ],
   "source": [
    "lira.tail(25)"
   ]
  },
  {
   "cell_type": "code",
   "execution_count": 112,
   "metadata": {},
   "outputs": [
    {
     "data": {
      "text/plain": [
       "2011-05-22   NaN\n",
       "2011-07-17   NaN\n",
       "2011-07-31   NaN\n",
       "2011-08-07   NaN\n",
       "2011-08-14   NaN\n",
       "2011-08-21   NaN\n",
       "2011-08-28   NaN\n",
       "2011-09-04   NaN\n",
       "2011-09-11   NaN\n",
       "2011-11-27   NaN\n",
       "2012-05-20   NaN\n",
       "2012-05-27   NaN\n",
       "2012-12-30   NaN\n",
       "2015-09-07   NaN\n",
       "2015-11-02   NaN\n",
       "2015-11-09   NaN\n",
       "2015-11-16   NaN\n",
       "2015-12-07   NaN\n",
       "2015-12-21   NaN\n",
       "2015-12-28   NaN\n",
       "2016-01-18   NaN\n",
       "2016-01-25   NaN\n",
       "2016-02-01   NaN\n",
       "2016-03-14   NaN\n",
       "2016-03-21   NaN\n",
       "2016-03-28   NaN\n",
       "2016-04-04   NaN\n",
       "2016-04-11   NaN\n",
       "2016-04-18   NaN\n",
       "2016-04-25   NaN\n",
       "2016-05-02   NaN\n",
       "2016-05-09   NaN\n",
       "2016-05-16   NaN\n",
       "2016-05-23   NaN\n",
       "2019-07-10   NaN\n",
       "2019-07-17   NaN\n",
       "2019-07-31   NaN\n",
       "Name: mean_price_7days, dtype: float64"
      ]
     },
     "execution_count": 112,
     "metadata": {},
     "output_type": "execute_result"
    }
   ],
   "source": [
    "# looking for weeks with no values at all.\n",
    "\n",
    "lira[lira['number_of_day'] == 7]['mean_price_7days'][lira[lira['number_of_day'] == 7]['mean_price_7days'].isnull()]"
   ]
  },
  {
   "cell_type": "code",
   "execution_count": 125,
   "metadata": {},
   "outputs": [
    {
     "data": {
      "text/html": [
       "<div>\n",
       "<style scoped>\n",
       "    .dataframe tbody tr th:only-of-type {\n",
       "        vertical-align: middle;\n",
       "    }\n",
       "\n",
       "    .dataframe tbody tr th {\n",
       "        vertical-align: top;\n",
       "    }\n",
       "\n",
       "    .dataframe thead th {\n",
       "        text-align: right;\n",
       "    }\n",
       "</style>\n",
       "<table border=\"1\" class=\"dataframe\">\n",
       "  <thead>\n",
       "    <tr style=\"text-align: right;\">\n",
       "      <th></th>\n",
       "      <th>mean_price_7days</th>\n",
       "    </tr>\n",
       "  </thead>\n",
       "  <tbody>\n",
       "    <tr>\n",
       "      <th>2011-03-06</th>\n",
       "      <td>499.489000</td>\n",
       "    </tr>\n",
       "    <tr>\n",
       "      <th>2011-03-13</th>\n",
       "      <td>500.108000</td>\n",
       "    </tr>\n",
       "    <tr>\n",
       "      <th>2011-03-20</th>\n",
       "      <td>494.353000</td>\n",
       "    </tr>\n",
       "    <tr>\n",
       "      <th>2011-03-27</th>\n",
       "      <td>498.218750</td>\n",
       "    </tr>\n",
       "    <tr>\n",
       "      <th>2011-04-03</th>\n",
       "      <td>500.078500</td>\n",
       "    </tr>\n",
       "    <tr>\n",
       "      <th>...</th>\n",
       "      <td>...</td>\n",
       "    </tr>\n",
       "    <tr>\n",
       "      <th>2020-02-23</th>\n",
       "      <td>841.388250</td>\n",
       "    </tr>\n",
       "    <tr>\n",
       "      <th>2020-03-01</th>\n",
       "      <td>812.238500</td>\n",
       "    </tr>\n",
       "    <tr>\n",
       "      <th>2020-03-08</th>\n",
       "      <td>848.935000</td>\n",
       "    </tr>\n",
       "    <tr>\n",
       "      <th>2020-03-15</th>\n",
       "      <td>884.899667</td>\n",
       "    </tr>\n",
       "    <tr>\n",
       "      <th>2020-03-22</th>\n",
       "      <td>886.347000</td>\n",
       "    </tr>\n",
       "  </tbody>\n",
       "</table>\n",
       "<p>473 rows × 1 columns</p>\n",
       "</div>"
      ],
      "text/plain": [
       "            mean_price_7days\n",
       "2011-03-06        499.489000\n",
       "2011-03-13        500.108000\n",
       "2011-03-20        494.353000\n",
       "2011-03-27        498.218750\n",
       "2011-04-03        500.078500\n",
       "...                      ...\n",
       "2020-02-23        841.388250\n",
       "2020-03-01        812.238500\n",
       "2020-03-08        848.935000\n",
       "2020-03-15        884.899667\n",
       "2020-03-22        886.347000\n",
       "\n",
       "[473 rows x 1 columns]"
      ]
     },
     "execution_count": 125,
     "metadata": {},
     "output_type": "execute_result"
    }
   ],
   "source": [
    "# filling those gaps\n",
    "\n",
    "weekly_lira = pd.DataFrame(lira[lira['number_of_day'] == 7]['mean_price_7days'].interpolate())\n",
    "weekly_lira = weekly_lira.set_index(pd.date_range(start='2011-03-06', periods=len(weekly_lira), freq='w'))\n",
    "weekly_lira"
   ]
  },
  {
   "cell_type": "code",
   "execution_count": 118,
   "metadata": {},
   "outputs": [
    {
     "data": {
      "image/png": "[encoded data removed]",
      "text/plain": [
       "<Figure size 1440x432 with 1 Axes>"
      ]
     },
     "metadata": {
      "needs_background": "light"
     },
     "output_type": "display_data"
    }
   ],
   "source": [
    "timeseries_prices = plt.plot(weekly_lira, label = 'Maize Price')\n",
    "# upper_band = plt.plot(month_rolmean + 2 * month_rolstd, color='red', label='Crisis band')\n",
    "# lower_band = plt.plot(month_rolmean + 1.5 * month_rolstd, color='orange', label='Alert mean')\n",
    "plt.xlabel('Years')\n",
    "plt.ylabel('Price in UGX')\n",
    "plt.show()\n"
   ]
  },
  {
   "cell_type": "code",
   "execution_count": 119,
   "metadata": {},
   "outputs": [
    {
     "name": "stdout",
     "output_type": "stream",
     "text": [
      "ADF Statistic: -3.6293\n",
      "p-value: 0.0052\n",
      "Critical Values:\n",
      "1%: -3.4443\n",
      "5%: -2.8677\n",
      "10%: -2.5701\n"
     ]
    }
   ],
   "source": [
    "# Augmented Dickey-Fuller test\n",
    "\n",
    "\n",
    "'''\n",
    "The Augmented Dickey-Fuller test is a type of statistical test called a unit root test.\n",
    "The intuition behind a unit root is that it determines how strongly a time series is defined by a trend.\n",
    "The more negative the statistic is, the more likely to reject the null hypothesis, this mean, \n",
    "    the data has a unit root and is non-stationary. It has some time dependency.\n",
    "'''\n",
    "\n",
    "\n",
    "result_adft = adfuller(weekly_lira)\n",
    "print(f'ADF Statistic: {round(result_adft[0],4)}')\n",
    "print(f'p-value: {round(result_adft[1],4)}')\n",
    "print('Critical Values:')\n",
    "for key, value in result_adft[4].items():\n",
    "    print(f'{key}: {round(value,4)}')"
   ]
  },
  {
   "cell_type": "markdown",
   "metadata": {},
   "source": [
    "The statistic is lower than all the critical values, so I reject the Null Hypothesis with a confidence of 99%, meaning that the Time Series is stationary."
   ]
  },
  {
   "cell_type": "markdown",
   "metadata": {},
   "source": [
    "## ACF "
   ]
  },
  {
   "cell_type": "code",
   "execution_count": 120,
   "metadata": {},
   "outputs": [
    {
     "data": {
      "image/png": "[encoded data removed]",
      "text/plain": [
       "<Figure size 1440x432 with 1 Axes>"
      ]
     },
     "metadata": {
      "needs_background": "light"
     },
     "output_type": "display_data"
    }
   ],
   "source": [
    "acf_plot = plot_acf(weekly_lira, lags=100)"
   ]
  },
  {
   "cell_type": "markdown",
   "metadata": {},
   "source": [
    "## PACF"
   ]
  },
  {
   "cell_type": "code",
   "execution_count": 121,
   "metadata": {},
   "outputs": [
    {
     "data": {
      "image/png": "[encoded data removed]",
      "text/plain": [
       "<Figure size 1440x432 with 1 Axes>"
      ]
     },
     "metadata": {
      "needs_background": "light"
     },
     "output_type": "display_data"
    }
   ],
   "source": [
    "pacf_plot = plot_pacf(weekly_lira, lags=100)"
   ]
  },
  {
   "cell_type": "code",
   "execution_count": 163,
   "metadata": {},
   "outputs": [],
   "source": [
    "# First approach to splitting the data into train and testing set.\n",
    "\n",
    "\n",
    "train_end = datetime(2020,3,1)\n",
    "test_end = datetime(2020,3,22)\n",
    "\n",
    "train_data = weekly_lira[:train_end]\n",
    "test_data = weekly_lira[train_end + timedelta(days=1):test_end]\n"
   ]
  },
  {
   "cell_type": "code",
   "execution_count": 167,
   "metadata": {},
   "outputs": [
    {
     "data": {
      "text/html": [
       "<table class=\"simpletable\">\n",
       "<caption>ARMA Model Results</caption>\n",
       "<tr>\n",
       "  <th>Dep. Variable:</th> <td>mean_price_7days</td> <th>  No. Observations:  </th>    <td>470</td>   \n",
       "</tr>\n",
       "<tr>\n",
       "  <th>Model:</th>            <td>ARMA(2, 2)</td>    <th>  Log Likelihood     </th> <td>-2667.078</td>\n",
       "</tr>\n",
       "<tr>\n",
       "  <th>Method:</th>             <td>css-mle</td>     <th>  S.D. of innovations</th>  <td>70.311</td>  \n",
       "</tr>\n",
       "<tr>\n",
       "  <th>Date:</th>          <td>Sat, 09 May 2020</td> <th>  AIC                </th> <td>5346.157</td> \n",
       "</tr>\n",
       "<tr>\n",
       "  <th>Time:</th>              <td>01:11:37</td>     <th>  BIC                </th> <td>5371.073</td> \n",
       "</tr>\n",
       "<tr>\n",
       "  <th>Sample:</th>           <td>03-06-2011</td>    <th>  HQIC               </th> <td>5355.960</td> \n",
       "</tr>\n",
       "<tr>\n",
       "  <th></th>                 <td>- 03-01-2020</td>   <th>                     </th>     <td> </td>    \n",
       "</tr>\n",
       "</table>\n",
       "<table class=\"simpletable\">\n",
       "<tr>\n",
       "             <td></td>               <th>coef</th>     <th>std err</th>      <th>z</th>      <th>P>|z|</th>  <th>[0.025</th>    <th>0.975]</th>  \n",
       "</tr>\n",
       "<tr>\n",
       "  <th>const</th>                  <td>  759.1793</td> <td>   60.555</td> <td>   12.537</td> <td> 0.000</td> <td>  640.494</td> <td>  877.865</td>\n",
       "</tr>\n",
       "<tr>\n",
       "  <th>ar.L1.mean_price_7days</th> <td>    0.1590</td> <td>    0.294</td> <td>    0.541</td> <td> 0.588</td> <td>   -0.416</td> <td>    0.734</td>\n",
       "</tr>\n",
       "<tr>\n",
       "  <th>ar.L2.mean_price_7days</th> <td>    0.7254</td> <td>    0.270</td> <td>    2.692</td> <td> 0.007</td> <td>    0.197</td> <td>    1.254</td>\n",
       "</tr>\n",
       "<tr>\n",
       "  <th>ma.L1.mean_price_7days</th> <td>    1.0477</td> <td>    0.305</td> <td>    3.437</td> <td> 0.001</td> <td>    0.450</td> <td>    1.645</td>\n",
       "</tr>\n",
       "<tr>\n",
       "  <th>ma.L2.mean_price_7days</th> <td>    0.1764</td> <td>    0.124</td> <td>    1.423</td> <td> 0.155</td> <td>   -0.067</td> <td>    0.419</td>\n",
       "</tr>\n",
       "</table>\n",
       "<table class=\"simpletable\">\n",
       "<caption>Roots</caption>\n",
       "<tr>\n",
       "    <td></td>   <th>            Real</th>  <th>         Imaginary</th> <th>         Modulus</th>  <th>        Frequency</th>\n",
       "</tr>\n",
       "<tr>\n",
       "  <th>AR.1</th> <td>           1.0696</td> <td>          +0.0000j</td> <td>           1.0696</td> <td>           0.0000</td>\n",
       "</tr>\n",
       "<tr>\n",
       "  <th>AR.2</th> <td>          -1.2888</td> <td>          +0.0000j</td> <td>           1.2888</td> <td>           0.5000</td>\n",
       "</tr>\n",
       "<tr>\n",
       "  <th>MA.1</th> <td>          -1.1949</td> <td>          +0.0000j</td> <td>           1.1949</td> <td>           0.5000</td>\n",
       "</tr>\n",
       "<tr>\n",
       "  <th>MA.2</th> <td>          -4.7442</td> <td>          +0.0000j</td> <td>           4.7442</td> <td>           0.5000</td>\n",
       "</tr>\n",
       "</table>"
      ],
      "text/plain": [
       "<class 'statsmodels.iolib.summary.Summary'>\n",
       "\"\"\"\n",
       "                              ARMA Model Results                              \n",
       "==============================================================================\n",
       "Dep. Variable:       mean_price_7days   No. Observations:                  470\n",
       "Model:                     ARMA(2, 2)   Log Likelihood               -2667.078\n",
       "Method:                       css-mle   S.D. of innovations             70.311\n",
       "Date:                Sat, 09 May 2020   AIC                           5346.157\n",
       "Time:                        01:11:37   BIC                           5371.073\n",
       "Sample:                    03-06-2011   HQIC                          5355.960\n",
       "                         - 03-01-2020                                         \n",
       "==========================================================================================\n",
       "                             coef    std err          z      P>|z|      [0.025      0.975]\n",
       "------------------------------------------------------------------------------------------\n",
       "const                    759.1793     60.555     12.537      0.000     640.494     877.865\n",
       "ar.L1.mean_price_7days     0.1590      0.294      0.541      0.588      -0.416       0.734\n",
       "ar.L2.mean_price_7days     0.7254      0.270      2.692      0.007       0.197       1.254\n",
       "ma.L1.mean_price_7days     1.0477      0.305      3.437      0.001       0.450       1.645\n",
       "ma.L2.mean_price_7days     0.1764      0.124      1.423      0.155      -0.067       0.419\n",
       "                                    Roots                                    \n",
       "=============================================================================\n",
       "                  Real          Imaginary           Modulus         Frequency\n",
       "-----------------------------------------------------------------------------\n",
       "AR.1            1.0696           +0.0000j            1.0696            0.0000\n",
       "AR.2           -1.2888           +0.0000j            1.2888            0.5000\n",
       "MA.1           -1.1949           +0.0000j            1.1949            0.5000\n",
       "MA.2           -4.7442           +0.0000j            4.7442            0.5000\n",
       "-----------------------------------------------------------------------------\n",
       "\"\"\""
      ]
     },
     "execution_count": 167,
     "metadata": {},
     "output_type": "execute_result"
    }
   ],
   "source": [
    "# Create the model\n",
    "\n",
    "premodel = ARIMA(train_data, order=(2,0,2))\n",
    "model = premodel.fit()\n",
    "\n",
    "model.summary()\n"
   ]
  },
  {
   "cell_type": "code",
   "execution_count": 168,
   "metadata": {},
   "outputs": [],
   "source": [
    "# predictions time\n",
    "\n",
    "pred_start_date = test_data.index[0]\n",
    "pred_end_date = test_data.index[-1]\n",
    "\n",
    "predictions = model.predict(start=pred_start_date, end=pred_end_date)"
   ]
  },
  {
   "cell_type": "code",
   "execution_count": 169,
   "metadata": {},
   "outputs": [
    {
     "data": {
      "image/png": "[encoded data removed]",
      "text/plain": [
       "<Figure size 1440x432 with 1 Axes>"
      ]
     },
     "metadata": {
      "needs_background": "light"
     },
     "output_type": "display_data"
    }
   ],
   "source": [
    "timeseries_prices = plt.plot(weekly_lira, label = 'Maize Price')\n",
    "plt.plot(predictions, label='predictions')\n",
    "# upper_band = plt.plot(month_rolmean + 2 * month_rolstd, color='red', label='Crisis band')\n",
    "# lower_band = plt.plot(month_rolmean + 1.5 * month_rolstd, color='orange', label='Alert mean')\n",
    "plt.xlabel('Years')\n",
    "plt.ylabel('Price in UGX')\n",
    "plt.show()\n"
   ]
  },
  {
   "cell_type": "code",
   "execution_count": 204,
   "metadata": {},
   "outputs": [
    {
     "data": {
      "text/html": [
       "<div>\n",
       "<style scoped>\n",
       "    .dataframe tbody tr th:only-of-type {\n",
       "        vertical-align: middle;\n",
       "    }\n",
       "\n",
       "    .dataframe tbody tr th {\n",
       "        vertical-align: top;\n",
       "    }\n",
       "\n",
       "    .dataframe thead th {\n",
       "        text-align: right;\n",
       "    }\n",
       "</style>\n",
       "<table border=\"1\" class=\"dataframe\">\n",
       "  <thead>\n",
       "    <tr style=\"text-align: right;\">\n",
       "      <th></th>\n",
       "      <th>dates</th>\n",
       "    </tr>\n",
       "  </thead>\n",
       "  <tbody>\n",
       "    <tr>\n",
       "      <th>0</th>\n",
       "      <td>2011-02-27</td>\n",
       "    </tr>\n",
       "    <tr>\n",
       "      <th>1</th>\n",
       "      <td>2011-02-28</td>\n",
       "    </tr>\n",
       "    <tr>\n",
       "      <th>2</th>\n",
       "      <td>2011-03-01</td>\n",
       "    </tr>\n",
       "    <tr>\n",
       "      <th>3</th>\n",
       "      <td>2011-03-02</td>\n",
       "    </tr>\n",
       "    <tr>\n",
       "      <th>4</th>\n",
       "      <td>2011-03-03</td>\n",
       "    </tr>\n",
       "  </tbody>\n",
       "</table>\n",
       "</div>"
      ],
      "text/plain": [
       "       dates\n",
       "0 2011-02-27\n",
       "1 2011-02-28\n",
       "2 2011-03-01\n",
       "3 2011-03-02\n",
       "4 2011-03-03"
      ]
     },
     "execution_count": 204,
     "metadata": {},
     "output_type": "execute_result"
    }
   ],
   "source": []
  },
  {
   "cell_type": "code",
   "execution_count": 222,
   "metadata": {},
   "outputs": [
    {
     "data": {
      "text/html": [
       "<div>\n",
       "<style scoped>\n",
       "    .dataframe tbody tr th:only-of-type {\n",
       "        vertical-align: middle;\n",
       "    }\n",
       "\n",
       "    .dataframe tbody tr th {\n",
       "        vertical-align: top;\n",
       "    }\n",
       "\n",
       "    .dataframe thead th {\n",
       "        text-align: right;\n",
       "    }\n",
       "</style>\n",
       "<table border=\"1\" class=\"dataframe\">\n",
       "  <thead>\n",
       "    <tr style=\"text-align: right;\">\n",
       "      <th></th>\n",
       "      <th>mean_price_7days</th>\n",
       "    </tr>\n",
       "  </thead>\n",
       "  <tbody>\n",
       "    <tr>\n",
       "      <th>2011-03-06</th>\n",
       "      <td>NaN</td>\n",
       "    </tr>\n",
       "    <tr>\n",
       "      <th>2011-03-13</th>\n",
       "      <td>NaN</td>\n",
       "    </tr>\n",
       "    <tr>\n",
       "      <th>2011-03-20</th>\n",
       "      <td>NaN</td>\n",
       "    </tr>\n",
       "    <tr>\n",
       "      <th>2011-03-27</th>\n",
       "      <td>NaN</td>\n",
       "    </tr>\n",
       "    <tr>\n",
       "      <th>2011-04-03</th>\n",
       "      <td>NaN</td>\n",
       "    </tr>\n",
       "    <tr>\n",
       "      <th>...</th>\n",
       "      <td>...</td>\n",
       "    </tr>\n",
       "    <tr>\n",
       "      <th>2020-02-23</th>\n",
       "      <td>NaN</td>\n",
       "    </tr>\n",
       "    <tr>\n",
       "      <th>2020-03-01</th>\n",
       "      <td>NaN</td>\n",
       "    </tr>\n",
       "    <tr>\n",
       "      <th>2020-03-08</th>\n",
       "      <td>NaN</td>\n",
       "    </tr>\n",
       "    <tr>\n",
       "      <th>2020-03-15</th>\n",
       "      <td>NaN</td>\n",
       "    </tr>\n",
       "    <tr>\n",
       "      <th>2020-03-22</th>\n",
       "      <td>NaN</td>\n",
       "    </tr>\n",
       "  </tbody>\n",
       "</table>\n",
       "<p>473 rows × 1 columns</p>\n",
       "</div>"
      ],
      "text/plain": [
       "            mean_price_7days\n",
       "2011-03-06               NaN\n",
       "2011-03-13               NaN\n",
       "2011-03-20               NaN\n",
       "2011-03-27               NaN\n",
       "2011-04-03               NaN\n",
       "...                      ...\n",
       "2020-02-23               NaN\n",
       "2020-03-01               NaN\n",
       "2020-03-08               NaN\n",
       "2020-03-15               NaN\n",
       "2020-03-22               NaN\n",
       "\n",
       "[473 rows x 1 columns]"
      ]
     },
     "execution_count": 222,
     "metadata": {},
     "output_type": "execute_result"
    }
   ],
   "source": []
  },
  {
   "cell_type": "code",
   "execution_count": 29,
   "metadata": {},
   "outputs": [
    {
     "data": {
      "text/plain": [
       "DatetimeIndex(['2011-03-06', '2011-03-13', '2011-03-20', '2011-03-27',\n",
       "               '2011-04-03', '2011-04-10', '2011-04-17', '2011-04-24',\n",
       "               '2011-05-01', '2011-05-08',\n",
       "               ...\n",
       "               '2021-04-04', '2021-04-11', '2021-04-18', '2021-04-25',\n",
       "               '2021-05-02', '2021-05-09', '2021-05-16', '2021-05-23',\n",
       "               '2021-05-30', '2021-06-06'],\n",
       "              dtype='datetime64[ns]', length=536, freq='W-SUN')"
      ]
     },
     "execution_count": 29,
     "metadata": {},
     "output_type": "execute_result"
    }
   ],
   "source": []
  },
  {
   "cell_type": "code",
   "execution_count": 223,
   "metadata": {},
   "outputs": [
    {
     "data": {
      "text/plain": [
       "2011-03-05    499.489000\n",
       "2011-03-12    500.108000\n",
       "2011-03-19    494.353000\n",
       "2011-03-26    498.218750\n",
       "2011-04-02    500.078500\n",
       "                 ...    \n",
       "2020-02-28    824.239667\n",
       "2020-03-05    813.414000\n",
       "2020-03-12    882.302667\n",
       "2020-03-19    894.993000\n",
       "2020-03-26    842.071000\n",
       "Name: mean_price_7days, Length: 536, dtype: float64"
      ]
     },
     "execution_count": 223,
     "metadata": {},
     "output_type": "execute_result"
    }
   ],
   "source": []
  }
 ],
 "metadata": {
  "kernelspec": {
   "display_name": "Python 3",
   "language": "python",
   "name": "python3"
  },
  "language_info": {
   "codemirror_mode": {
    "name": "ipython",
    "version": 3
   },
   "file_extension": ".py",
   "mimetype": "text/x-python",
   "name": "python",
   "nbconvert_exporter": "python",
   "pygments_lexer": "ipython3",
   "version": "3.7.6"
  }
 },
 "nbformat": 4,
 "nbformat_minor": 4
}
